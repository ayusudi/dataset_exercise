{
  "nbformat": 4,
  "nbformat_minor": 0,
  "metadata": {
    "colab": {
      "provenance": []
    },
    "kernelspec": {
      "name": "python3",
      "display_name": "Python 3"
    },
    "language_info": {
      "name": "python"
    }
  },
  "cells": [
    {
      "cell_type": "markdown",
      "source": [
        "# Demo Session Data Cleaning & Data Transform with Pandas"
      ],
      "metadata": {
        "id": "TCNOCsFef0Lg"
      }
    },
    {
      "cell_type": "markdown",
      "source": [
        "**Note :**  \n",
        "data loading -> data exploration -> **data preparation**\n",
        "\n",
        "data loading -> data exploration -> **data preprocessing**\n",
        "\n",
        "data loading -> data exploration -> **data cleaning -> data transform, ...**"
      ],
      "metadata": {
        "id": "86_IKD4ggUbh"
      }
    },
    {
      "cell_type": "markdown",
      "source": [
        "https://raw.githubusercontent.com/ayusudi/womenland_class_demo/main/data_penjualan.csv"
      ],
      "metadata": {
        "id": "3eoHoiqfgpmQ"
      }
    },
    {
      "cell_type": "code",
      "execution_count": null,
      "metadata": {
        "id": "Q0cuNFP5fo4U"
      },
      "outputs": [],
      "source": [
        "# Import library disini yaa"
      ]
    },
    {
      "cell_type": "markdown",
      "source": [
        "# Data Loading"
      ],
      "metadata": {
        "id": "K2UzepRhf-d0"
      }
    },
    {
      "cell_type": "markdown",
      "source": [
        "Data loading yang ada disini merupakan mengambil data raw (yang belum bersih) atau singkatnya kita mambaca data. Metodenya bermacam-macam bisa melalui API, database connection atau data kita ada disebuah file (csv/json/excel/xml).\n",
        "\n",
        "Reference to tutorial pandas ( [LINK](https://pandas.pydata.org/docs/getting_started/intro_tutorials/02_read_write.html#how-do-i-read-and-write-tabular-data))"
      ],
      "metadata": {
        "id": "bImtXfQ_wBaI"
      }
    },
    {
      "cell_type": "code",
      "source": [
        "# Code untuk membaca file pada link diatas."
      ],
      "metadata": {
        "id": "2reGWs54f93i"
      },
      "execution_count": null,
      "outputs": []
    },
    {
      "cell_type": "markdown",
      "source": [
        "# Data Exploration\n",
        "\n",
        "> Pada saat ini kita explore data yang kita miliki, kita seperti investigator disini 🕵🏻‍♀️\n",
        "\n",
        "Best references I find ([LINK](https://www.analyticsvidhya.com/blog/2021/06/top-15-pandas-data-exploration-functions/))\n",
        "\n",
        "Kamu juga boleh explore data lagi setelah di cleaning, kalo ditahap yang saat ini kita explore untuk kepentingan membersihkan data.\n",
        "\n",
        "Kebetulan data kita masih belum konsisten. Wah tapi kalo teman2 penasaran kalo udah punya data bersih kita ngapaiin yaa? Aku kasih referensi di akhir yaa..\n",
        "\n",
        "atau liat ini yuk ([LINK](https://www.practicalpythonfordatascience.com/05_data_exploration))."
      ],
      "metadata": {
        "id": "K3-sLmYOgAqs"
      }
    },
    {
      "cell_type": "markdown",
      "source": [
        "# Data Cleaning"
      ],
      "metadata": {
        "id": "wPuJweL4gvzG"
      }
    },
    {
      "cell_type": "markdown",
      "source": [],
      "metadata": {
        "id": "kc12D-7N1P-s"
      }
    },
    {
      "cell_type": "code",
      "source": [],
      "metadata": {
        "id": "x5rHO_Lo1Pls"
      },
      "execution_count": null,
      "outputs": []
    },
    {
      "cell_type": "markdown",
      "source": [
        "# Data Transform"
      ],
      "metadata": {
        "id": "BtuZcFxHzPX4"
      }
    },
    {
      "cell_type": "markdown",
      "source": [],
      "metadata": {
        "id": "WdEVa_A61QX9"
      }
    },
    {
      "cell_type": "code",
      "source": [],
      "metadata": {
        "id": "zKrPSAcc1PO6"
      },
      "execution_count": null,
      "outputs": []
    },
    {
      "cell_type": "markdown",
      "source": [
        "# The End of Our Demo 🥹\n",
        "End but... biasanya kita simpan hasil data yang telah di bersihkan"
      ],
      "metadata": {
        "id": "cWvO2Wtd0-9I"
      }
    },
    {
      "cell_type": "code",
      "source": [],
      "metadata": {
        "id": "3cHWWWyq1AI_"
      },
      "execution_count": null,
      "outputs": []
    }
  ]
}